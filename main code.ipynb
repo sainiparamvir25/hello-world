{
 "cells": [
  {
   "cell_type": "code",
   "execution_count": 3,
   "metadata": {},
   "outputs": [
    {
     "name": "stdout",
     "output_type": "stream",
     "text": [
      "Veer\n",
      "Veer is saying hello world\n",
      "param\n",
      "param is saying hello world\n"
     ]
    }
   ],
   "source": [
    "class employee():\n",
    "    def __init__(self, name):\n",
    "        self.name=name\n",
    "\n",
    "    def hello_world(self):\n",
    "        print(f'{self.name} is saying hello world')\n",
    "    def name_print(self):\n",
    "        print(f'{self.name}')\n",
    "    \n",
    "if __name__=='__main__':\n",
    "    print('This is Param Branch 2')\n",
    "\n",
    "\n",
    "\n",
    "\n"
   ]
  },
  {
   "cell_type": "code",
   "execution_count": null,
   "metadata": {},
   "outputs": [],
   "source": []
  }
 ],
 "metadata": {
  "interpreter": {
   "hash": "f2fb46c626402b7d2c4e14e480b70d834e04c4fec30b9e218089baf1bab1837e"
  },
  "kernelspec": {
   "display_name": "Python 3.6.8 64-bit ('base': conda)",
   "language": "python",
   "name": "python3"
  },
  "language_info": {
   "codemirror_mode": {
    "name": "ipython",
    "version": 3
   },
   "file_extension": ".py",
   "mimetype": "text/x-python",
   "name": "python",
   "nbconvert_exporter": "python",
   "pygments_lexer": "ipython3",
   "version": "3.6.8"
  },
  "orig_nbformat": 4
 },
 "nbformat": 4,
 "nbformat_minor": 2
}
